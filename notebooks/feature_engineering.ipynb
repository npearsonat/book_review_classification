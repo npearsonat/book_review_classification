{
 "cells": [
  {
   "cell_type": "code",
   "execution_count": 1,
   "id": "30c26c71-5165-47dd-a6ba-9eb222ecfd51",
   "metadata": {},
   "outputs": [],
   "source": [
    "import pandas as pd\n",
    "import numpy as np\n",
    "\n",
    "import re\n",
    "from textblob import TextBlob\n",
    "import nltk\n",
    "from nltk.tokenize import sent_tokenize, word_tokenize\n",
    "from textstat import flesch_reading_ease, flesch_kincaid_grade\n",
    "\n",
    "from sklearn.feature_extraction.text import TfidfVectorizer"
   ]
  },
  {
   "cell_type": "code",
   "execution_count": 2,
   "id": "b9172f4e-6492-4931-824b-2d1dd235960d",
   "metadata": {},
   "outputs": [],
   "source": [
    "df = pd.read_csv('data/data_cleaned.csv')"
   ]
  },
  {
   "cell_type": "markdown",
   "id": "cda28e6d-104f-48e0-b92e-5f65587f50ba",
   "metadata": {},
   "source": [
    "# Feature Engineering"
   ]
  },
  {
   "cell_type": "code",
   "execution_count": 3,
   "id": "b15e6e2e-c3bc-4071-bd9e-2b39fefff207",
   "metadata": {},
   "outputs": [],
   "source": [
    "# --- Basic Text Features ---\n",
    "df['word_count'] = df['review/text'].apply(lambda x: len(word_tokenize(str(x))))\n",
    "df['char_count'] = df['review/text'].apply(lambda x: len(str(x)))\n",
    "df['sentence_count'] = df['review/text'].apply(lambda x: len(sent_tokenize(str(x))))\n",
    "df['avg_sentence_length'] = df['word_count'] / df['sentence_count']\n",
    "df['exclamation_count'] = df['review/text'].str.count('!')\n",
    "df['question_count'] = df['review/text'].str.count(r'\\?')\n",
    "df['capital_count'] = df['review/text'].apply(lambda x: sum(1 for c in str(x) if c.isupper()))\n",
    "df['capital_ratio'] = df['capital_count'] / df['char_count']"
   ]
  },
  {
   "cell_type": "code",
   "execution_count": 4,
   "id": "3cf3a1b6-ac57-43ab-840c-4ac2f838381b",
   "metadata": {},
   "outputs": [],
   "source": [
    "# --- Sentiment Analysis Using TextBlob (polarity: -1 to 1, subjectivity: 0 to 1) --- \n",
    "df['polarity'] = df['review/text'].apply(lambda x: TextBlob(str(x)).sentiment.polarity)\n",
    "df['subjectivity'] = df['review/text'].apply(lambda x: TextBlob(str(x)).sentiment.subjectivity)\n",
    "\n",
    "# --- Readability Metrics using # Flesch Reading Ease --- \n",
    "df['flesch_reading_ease'] = df['review/text'].apply(lambda x: flesch_reading_ease(str(x)))\n",
    "df['flesch_kincaid_grade'] = df['review/text'].apply(lambda x: flesch_kincaid_grade(str(x)))\n",
    "\n",
    "# --- Specific vs vague language (simple example using pronouns/adverbs) ---\n",
    "vague_words = ['thing', 'stuff', 'something', 'anything', 'everything']\n",
    "df['vague_word_count'] = df['review/text'].apply(lambda x: sum(1 for w in str(x).lower().split() if w in vague_words))\n",
    "df['vague_ratio'] = df['vague_word_count'] / df['word_count']"
   ]
  },
  {
   "cell_type": "code",
   "execution_count": 5,
   "id": "fe5cb328-e1e5-4a57-ab22-ef048665794e",
   "metadata": {},
   "outputs": [
    {
     "data": {
      "text/plain": [
       "Index(['review/helpfulness', 'review/time', 'review/summary', 'review/text',\n",
       "       'is_helpful', 'datetime', 'year', 'month', 'day', 'day_of_week',\n",
       "       'is_weekend', 'quarter', 'word_count', 'char_count', 'sentence_count',\n",
       "       'avg_sentence_length', 'exclamation_count', 'question_count',\n",
       "       'capital_count', 'capital_ratio', 'polarity', 'subjectivity',\n",
       "       'flesch_reading_ease', 'flesch_kincaid_grade', 'vague_word_count',\n",
       "       'vague_ratio'],\n",
       "      dtype='object')"
      ]
     },
     "execution_count": 5,
     "metadata": {},
     "output_type": "execute_result"
    }
   ],
   "source": [
    "df.columns"
   ]
  },
  {
   "cell_type": "markdown",
   "id": "2e1c0a4b-97e9-4dee-a942-58c92e49f202",
   "metadata": {},
   "source": [
    "### TF-IDF Text Vectorization"
   ]
  },
  {
   "cell_type": "code",
   "execution_count": 6,
   "id": "fdb01dfb-9617-4fa5-a8e0-b43335e67e9b",
   "metadata": {},
   "outputs": [],
   "source": [
    "tfidf = TfidfVectorizer(max_features=200, ngram_range=(1,2), stop_words='english')\n",
    "X_tfidf = tfidf.fit_transform(df['review/text'].astype(str))\n",
    "tfidf_df = pd.DataFrame(X_tfidf.toarray(), columns=tfidf.get_feature_names_out(), index=df.index)"
   ]
  },
  {
   "cell_type": "code",
   "execution_count": 7,
   "id": "353b96b5-c200-4857-8b08-6bc5e5ac2152",
   "metadata": {},
   "outputs": [],
   "source": [
    "feature_cols = ['word_count', 'char_count', 'sentence_count', 'avg_sentence_length',\n",
    "                'exclamation_count', 'question_count', 'capital_count', 'capital_ratio',\n",
    "                'polarity', 'subjectivity', 'flesch_reading_ease', 'flesch_kincaid_grade',\n",
    "                'vague_word_count', 'vague_ratio', 'month', 'is_weekend']\n",
    "other_features = df[feature_cols]\n",
    "\n",
    "X_combined = pd.concat([tfidf_df, other_features], axis=1)"
   ]
  },
  {
   "cell_type": "code",
   "execution_count": 8,
   "id": "f86ea6b2-8fe2-49d5-9bd9-baa7b74cacac",
   "metadata": {},
   "outputs": [],
   "source": [
    "X_combined.to_csv(\"engineered_features.csv\", index=False)"
   ]
  }
 ],
 "metadata": {
  "kernelspec": {
   "display_name": "Python 3 (ipykernel)",
   "language": "python",
   "name": "python3"
  },
  "language_info": {
   "codemirror_mode": {
    "name": "ipython",
    "version": 3
   },
   "file_extension": ".py",
   "mimetype": "text/x-python",
   "name": "python",
   "nbconvert_exporter": "python",
   "pygments_lexer": "ipython3",
   "version": "3.12.3"
  }
 },
 "nbformat": 4,
 "nbformat_minor": 5
}
